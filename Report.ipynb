{
 "cells": [
  {
   "cell_type": "markdown",
   "metadata": {},
   "source": [
    "# Continuous Control Project Report \n",
    "\n",
    "---\n",
    "\n",
    "You are welcome to use this coding environment to train your agent for the project.  Follow the instructions below to get started!\n",
    "\n",
    "### 1. Start the Environment\n",
    "---\n",
    "\n",
    "Run the next code cell to install a few packages.  This line will take a few minutes to run!"
   ]
  },
  {
   "cell_type": "code",
   "execution_count": 1,
   "metadata": {},
   "outputs": [
    {
     "name": "stdout",
     "output_type": "stream",
     "text": [
      "\u001b[31mtensorflow 1.7.1 has requirement numpy>=1.13.3, but you'll have numpy 1.12.1 which is incompatible.\u001b[0m\r\n",
      "\u001b[31mipython 6.5.0 has requirement prompt-toolkit<2.0.0,>=1.0.15, but you'll have prompt-toolkit 3.0.8 which is incompatible.\u001b[0m\r\n"
     ]
    }
   ],
   "source": [
    "!pip -q install ./python"
   ]
  },
  {
   "cell_type": "markdown",
   "metadata": {},
   "source": [
    "The environments corresponding to both versions of the environment are already saved in the Workspace and can be accessed at the file paths provided below.  \n",
    "\n",
    "Please select one of the two options below for loading the environment."
   ]
  },
  {
   "cell_type": "code",
   "execution_count": 2,
   "metadata": {},
   "outputs": [],
   "source": [
    "from unityagents import UnityEnvironment\n",
    "import random\n",
    "import torch\n",
    "import numpy as np\n",
    "from collections import deque\n",
    "import matplotlib.pyplot as plt\n",
    "%matplotlib inline\n"
   ]
  },
  {
   "cell_type": "code",
   "execution_count": 3,
   "metadata": {},
   "outputs": [],
   "source": [
    "from ddpg_agent import Agent"
   ]
  },
  {
   "cell_type": "code",
   "execution_count": 4,
   "metadata": {},
   "outputs": [
    {
     "name": "stderr",
     "output_type": "stream",
     "text": [
      "INFO:unityagents:\n",
      "'Academy' started successfully!\n",
      "Unity Academy name: Academy\n",
      "        Number of Brains: 1\n",
      "        Number of External Brains : 1\n",
      "        Lesson number : 0\n",
      "        Reset Parameters :\n",
      "\t\tgoal_speed -> 1.0\n",
      "\t\tgoal_size -> 5.0\n",
      "Unity brain name: ReacherBrain\n",
      "        Number of Visual Observations (per agent): 0\n",
      "        Vector Observation space type: continuous\n",
      "        Vector Observation space size (per agent): 33\n",
      "        Number of stacked Vector Observation: 1\n",
      "        Vector Action space type: continuous\n",
      "        Vector Action space size (per agent): 4\n",
      "        Vector Action descriptions: , , , \n"
     ]
    }
   ],
   "source": [
    "\n",
    "\n",
    "# select this option to load version 1 (with a single agent) of the environment\n",
    "env = UnityEnvironment(file_name='/data/Reacher_One_Linux_NoVis/Reacher_One_Linux_NoVis.x86_64')\n",
    "\n",
    "# select this option to load version 2 (with 20 agents) of the environment\n",
    "# env = UnityEnvironment(file_name='/data/Reacher_Linux_NoVis/Reacher.x86_64')"
   ]
  },
  {
   "cell_type": "markdown",
   "metadata": {},
   "source": [
    "Environments contain **_brains_** which are responsible for deciding the actions of their associated agents. Here we check for the first brain available, and set it as the default brain we will be controlling from Python."
   ]
  },
  {
   "cell_type": "code",
   "execution_count": 5,
   "metadata": {},
   "outputs": [],
   "source": [
    "# get the default brain\n",
    "brain_name = env.brain_names[0]\n",
    "brain = env.brains[brain_name]"
   ]
  },
  {
   "cell_type": "markdown",
   "metadata": {},
   "source": [
    "### 2. Examine the State and Action Spaces\n",
    "---\n",
    "\n",
    "Run the code cell below to print some information about the environment."
   ]
  },
  {
   "cell_type": "code",
   "execution_count": 6,
   "metadata": {},
   "outputs": [
    {
     "name": "stdout",
     "output_type": "stream",
     "text": [
      "Number of agents: 1\n",
      "Size of each action: 4\n",
      "There are 1 agents. Each observes a state with length: 33\n",
      "The state for the first agent looks like: [  0.00000000e+00  -4.00000000e+00   0.00000000e+00   1.00000000e+00\n",
      "  -0.00000000e+00  -0.00000000e+00  -4.37113883e-08   0.00000000e+00\n",
      "   0.00000000e+00   0.00000000e+00   0.00000000e+00   0.00000000e+00\n",
      "   0.00000000e+00   0.00000000e+00  -1.00000000e+01   0.00000000e+00\n",
      "   1.00000000e+00  -0.00000000e+00  -0.00000000e+00  -4.37113883e-08\n",
      "   0.00000000e+00   0.00000000e+00   0.00000000e+00   0.00000000e+00\n",
      "   0.00000000e+00   0.00000000e+00   5.75471878e+00  -1.00000000e+00\n",
      "   5.55726671e+00   0.00000000e+00   1.00000000e+00   0.00000000e+00\n",
      "  -1.68164849e-01]\n",
      "#states:33, #actions:4\n",
      "#states:33, #actions:4\n"
     ]
    }
   ],
   "source": [
    "# reset the environment\n",
    "env_info = env.reset(train_mode=True)[brain_name]\n",
    "\n",
    "# number of agents\n",
    "num_agents = len(env_info.agents)\n",
    "print('Number of agents:', num_agents)\n",
    "\n",
    "# size of each action\n",
    "action_size = brain.vector_action_space_size\n",
    "print('Size of each action:', action_size)\n",
    "\n",
    "# examine the state space \n",
    "states = env_info.vector_observations\n",
    "state_size = states.shape[1]\n",
    "print('There are {} agents. Each observes a state with length: {}'.format(states.shape[0], state_size))\n",
    "print('The state for the first agent looks like:', states[0])\n",
    "\n",
    "print('#states:{}, #actions:{}'.format(state_size, action_size))\n",
    "print('#states:{}, #actions:{}'.format(brain.vector_observation_space_size,brain.vector_action_space_size))"
   ]
  },
  {
   "cell_type": "markdown",
   "metadata": {},
   "source": [
    "### 3. Take Random Actions in the Environment\n",
    "---\n",
    "In the next code cell, you will learn how to use the Python API to control the agent and receive feedback from the environment.\n",
    "\n",
    "Note that **in this coding environment, you will not be able to watch the agents while they are training**, and you should set `train_mode=True` to restart the environment."
   ]
  },
  {
   "cell_type": "code",
   "execution_count": 7,
   "metadata": {},
   "outputs": [
    {
     "name": "stdout",
     "output_type": "stream",
     "text": [
      "Total score (averaged over agents) this episode: 0.0, for 1001 steps\n"
     ]
    }
   ],
   "source": [
    "env_info = env.reset(train_mode=True)[brain_name]      # reset the environment    \n",
    "states = env_info.vector_observations                  # get the current state (for each agent)\n",
    "scores = np.zeros(num_agents)                          # initialize the score (for each agent)\n",
    "i=0\n",
    "while True:\n",
    "    i+=1\n",
    "    actions = np.random.randn(num_agents, action_size) # select an action (for each agent)\n",
    "    actions = np.clip(actions, -1, 1)                  # all actions between -1 and 1\n",
    "    env_info = env.step(actions)[brain_name]           # send all actions to tne environment\n",
    "    next_states = env_info.vector_observations         # get next state (for each agent)\n",
    "    rewards = env_info.rewards                         # get reward (for each agent)\n",
    "    dones = env_info.local_done                        # see if episode finished\n",
    "    scores += env_info.rewards                         # update the score (for each agent)\n",
    "    states = next_states                               # roll over states to next time step\n",
    "    if np.any(dones):                                  # exit loop if episode finished\n",
    "        break\n",
    "print('Total score (averaged over agents) this episode: {}, for {} steps'.format(np.mean(scores),i))"
   ]
  },
  {
   "cell_type": "markdown",
   "metadata": {},
   "source": [
    "### 4. Description of the Learning Algorithm\n",
    "---\n",
    "\n",
    "So the Learnning Algo. is based on :\n",
    "\n",
    "* Deep Deterministic Gradient Policy (DDGP)\n",
    "* Noise for randomness to explore more \n",
    "* Noise Decay to expliot more as number of epsiodes grow \n",
    "* An underlying NNs (defined later below)\n",
    "* Imporvments used to enhance the Deep DDPQ such as :\n",
    " * Replay Buffer\n",
    " * Fixed Targets"
   ]
  },
  {
   "cell_type": "markdown",
   "metadata": {},
   "source": [
    "#### 4.1 First lets Explore the Agent¶\n",
    "so the Code creates a list of agents to have the flexiblity to use different enviroments versions :\n",
    "* version 1 of single agent \n",
    "* version 2 of 20  agents \n",
    "\n",
    "Each agent will have the following \n",
    "1. Hyper-Parameters:\n",
    " * batch size: \t\t 1000000\n",
    " * buffer size: \t\t 1000000\n",
    " * discount / gamma: \t   0.990\n",
    " * actor learning rate: \t   0.001\n",
    " * critic learning rate: \t   0.001\n",
    " * soft update / tau: \t   0.001\n",
    " * noise decay rate: \t   0.999\n",
    " \n",
    " \n",
    "2.As DDGP Neural Networks:\n",
    " * Actor Local NN :\n",
    "     * input (state 33 input vector)\n",
    "     * output (continous actions values for the 4 actions)\n",
    " * Actor Target NN:\n",
    "     * input (state 33 input vector)\n",
    "     * output (continous actions values for the 4 actions) with fixed target\n",
    " * Critic local NN:\n",
    "     * input (state 33 input vector, action )\n",
    "     * output (single continous output) the critics' estimate of the current (state,action) pair \n",
    " * Cirtic Target NN:\n",
    "     * input (state 33 input vector, action )\n",
    "     * output (1 continous value) the critics' estimate of the current (state,action) pair with fixed target \n",
    " * Hidden layers of 400 followed by 300\n",
    " * Batch Normalization on the first hidden layer."
   ]
  },
  {
   "cell_type": "code",
   "execution_count": 8,
   "metadata": {},
   "outputs": [
    {
     "name": "stdout",
     "output_type": "stream",
     "text": [
      "DDPG Agent hyperparameters:\n",
      "\tbatch size: \t\t 1000000\n",
      "\tbuffer size: \t\t 1000000\n",
      "\tdiscount / gamma: \t   0.990\n",
      "\tactor learning rate: \t   0.001\n",
      "\tcritic learning rate: \t   0.001\n",
      "\tsoft update / tau: \t   0.001\n",
      "\tnoise decay rate: \t   0.999\n",
      "\t\n",
      "Actor network built: ModuleList(\n",
      "  (0): Linear(in_features=33, out_features=400, bias=True)\n",
      "  (1): Linear(in_features=400, out_features=300, bias=True)\n",
      "  (2): Linear(in_features=300, out_features=4, bias=True)\n",
      ")\n",
      "Actor network built: ModuleList(\n",
      "  (0): Linear(in_features=33, out_features=400, bias=True)\n",
      "  (1): Linear(in_features=400, out_features=300, bias=True)\n",
      "  (2): Linear(in_features=300, out_features=4, bias=True)\n",
      ")\n",
      "Critic network built: ModuleList(\n",
      "  (0): Linear(in_features=33, out_features=400, bias=True)\n",
      "  (1): Linear(in_features=404, out_features=300, bias=True)\n",
      "  (2): Linear(in_features=300, out_features=1, bias=True)\n",
      ")\n",
      "Critic network built: ModuleList(\n",
      "  (0): Linear(in_features=33, out_features=400, bias=True)\n",
      "  (1): Linear(in_features=404, out_features=300, bias=True)\n",
      "  (2): Linear(in_features=300, out_features=1, bias=True)\n",
      ")\n"
     ]
    }
   ],
   "source": [
    "agents=[]\n",
    "for agent in range(0,num_agents): \n",
    "   agents.append(Agent(state_size=brain.vector_observation_space_size, action_size=brain.vector_action_space_size, random_seed=10))"
   ]
  },
  {
   "cell_type": "markdown",
   "metadata": {},
   "source": [
    "#### 4.2 Load Previous Progress Option¶\n",
    "As connection dropped few times , I had to continue from last saved weights \n",
    "so the Code uses flag `load_weights` to decide to load critics' and actors' NN weights.\n",
    "\n",
    "Also, you can get a sense of the last agent's perfomance by running it for an eposide.\n"
   ]
  },
  {
   "cell_type": "code",
   "execution_count": 9,
   "metadata": {},
   "outputs": [],
   "source": [
    "len(agents)\n",
    "load_weights=False"
   ]
  },
  {
   "cell_type": "code",
   "execution_count": 10,
   "metadata": {},
   "outputs": [],
   "source": [
    "if(load_weights):\n",
    "    for agent in agents:  # Load per agent last checkpoint\n",
    "        agent.actor_local.load_state_dict(torch.load('checkpoint_actor.pth'))\n",
    "        agent.critic_local.load_state_dict(torch.load('checkpoint_critic.pth'))\n",
    "        agent.soft_update(agent.critic_local, agent.critic_target, 1)\n",
    "        agent.soft_update(agent.actor_local, agent.actor_target, 1)\n",
    "    #test agent before continuing trainning\n",
    "    env_info = env.reset(train_mode=True)[brain_name]      # reset the environment    \n",
    "    states = env_info.vector_observations                  # get the current state (for each agent)\n",
    "    scores = np.zeros(num_agents)                          # initialize the score (for each agent)\n",
    "    i=0\n",
    "    while True:\n",
    "        i+=1\n",
    "        actions=[]\n",
    "        for i in range(num_agents): \n",
    "            actions.append(agents[i].act(states[i]))       # select an action (for each agent)\n",
    "        env_info = env.step(actions)[brain_name]           # send all actions to tne environment\n",
    "        next_states = env_info.vector_observations         # get next state (for each agent)\n",
    "        rewards = env_info.rewards                         # get reward (for each agent)\n",
    "        dones = env_info.local_done                        # see if episode finished\n",
    "        scores += env_info.rewards                         # update the score (for each agent)\n",
    "        states = next_states                               # roll over states to next time step\n",
    "        if np.any(dones):                                  # exit loop if episode finished\n",
    "            break\n",
    "    print('Total score (averaged over agents) this episode: {}, for {} steps'.format(np.mean(scores),i))"
   ]
  },
  {
   "cell_type": "markdown",
   "metadata": {},
   "source": [
    "### 5. Trainning DDGP\n",
    "---\n",
    "In order to Solve this environment, :\n",
    "    * version 1: A single agent must be able to achieve an average reward (over 100 episodes) of at least 30.\n",
    "    * version 2: The Avg Reward of the 20 agents per eposide is ( over 100 episodes) of at least 30.\n",
    "    \n",
    "   \n",
    "In order not to waste testing time, the below trainning function breaks upon achieving the solve criteria and prints out Enviroment Solved. However, it is possible that function might return without achieving the criteria.\n"
   ]
  },
  {
   "cell_type": "code",
   "execution_count": 11,
   "metadata": {},
   "outputs": [],
   "source": [
    "def ddpg(n_episodes=2000, max_t=1000):\n",
    "    episode_scores_deque = deque(maxlen=100)\n",
    "    episode_scores = []     \n",
    "    max_score = -np.Inf\n",
    "        \n",
    "    for i_episode in range(1, n_episodes+1):\n",
    "        env_info = env.reset(train_mode=True)[brain_name]      # reset the environment    \n",
    "        states = env_info.vector_observations                  # get the current state (for each agent)\n",
    "        scores = np.zeros(num_agents)                          # initialize the score (for each agent)   \n",
    "        for agent in agents:  agent.reset() #agent.reset() #for agent in agents:  agent.reset()\n",
    "        \n",
    "        for t in range(max_t):\n",
    "            actions=[]\n",
    "            for i in range(num_agents): \n",
    "                actions.append(agents[i].act(states[i]))  # select an action (for each agent)\n",
    "            env_info = env.step(actions)[brain_name]                    # send all actions to tne environment\n",
    "            next_states = env_info.vector_observations                  # get next state (for each agent)\n",
    "            rewards = env_info.rewards                                  # get reward (for each agent)\n",
    "            dones = env_info.local_done                                 # see if episode finished\n",
    "            agent.step(states, actions, rewards, next_states, dones)    # update weights (for each agent)\n",
    "            scores += env_info.rewards                                  # update the score (for each agent)\n",
    "            states = next_states                                        # roll over states to next time step\n",
    "            \n",
    "            if np.any(dones):                                           # exit loop if episode finished\n",
    "                break\n",
    "        episode_scores_deque.append(np.mean(scores))            # append the avg score by agents in this eposide\n",
    "        episode_scores.append(np.mean(scores))                  # append the avg score by agents in this eposide\n",
    "        print('\\rEpisode {}\\tAverage Score: {:.2f}\\tScore: {:.2f}'.format(i_episode, np.mean(episode_scores_deque), np.mean(scores)), end=\"\")\n",
    "        if i_episode % 100 == 0:\n",
    "            torch.save(agent.actor_local.state_dict(), 'checkpoint_actor.pth')\n",
    "            torch.save(agent.critic_local.state_dict(), 'checkpoint_critic.pth')\n",
    "            print('\\rEpisode {}\\tAverage Score: {:.2f}'.format(i_episode, np.mean(episode_scores_deque)))\n",
    "        if np.mean(episode_scores_deque) >= 30.0 :\n",
    "            print('\\nEnvironment solved in {:d} episodes!\\tAverage Score: {:.2f}'.format(i_episode, np.mean(episode_scores_deque)))\n",
    "            torch.save(agent.actor_local.state_dict(), 'checkpoint_actor.pth')\n",
    "            torch.save(agent.critic_local.state_dict(), 'checkpoint_critic.pth')\n",
    "            break\n",
    "    return episode_scores"
   ]
  },
  {
   "cell_type": "code",
   "execution_count": 12,
   "metadata": {},
   "outputs": [
    {
     "name": "stdout",
     "output_type": "stream",
     "text": [
      "Episode 100\tAverage Score: 3.76\tScore: 4.49\n",
      "Episode 200\tAverage Score: 14.50\tScore: 18.79\n",
      "Episode 300\tAverage Score: 24.22\tScore: 30.86\n",
      "Episode 400\tAverage Score: 27.97\tScore: 35.71\n",
      "Episode 496\tAverage Score: 30.05\tScore: 36.92\n",
      "Environment solved in 496 episodes!\tAverage Score: 30.05\n"
     ]
    }
   ],
   "source": [
    "scores = ddpg()"
   ]
  },
  {
   "cell_type": "code",
   "execution_count": 14,
   "metadata": {},
   "outputs": [
    {
     "data": {
      "image/png": "[encoded data removed]",
      "text/plain": [
       "<matplotlib.figure.Figure at 0x7fbca9c59748>"
      ]
     },
     "metadata": {
      "needs_background": "light"
     },
     "output_type": "display_data"
    }
   ],
   "source": [
    "fig = plt.figure()\n",
    "ax = fig.add_subplot(111)\n",
    "plt.plot(np.arange(1, len(scores)+1), scores)\n",
    "plt.ylabel('Score')\n",
    "plt.xlabel('Episode #')\n",
    "plt.show() "
   ]
  },
  {
   "cell_type": "markdown",
   "metadata": {},
   "source": [
    "### 6. Results\n",
    "---\n",
    "Below is graph Heighting:\n",
    "\n",
    "* Avg Scores achieved by for agent(s) for each Eposide\n",
    "\n",
    "* The Min score required , orange line, at score 30 to show relatively the perfomance of the agent against the 1st success criteria, ie the minScore\n",
    "\n",
    "* The Avg Achieved Score, green Line, on the last 100 Episodes which is the 2nd success criteria, ie the MinEposides\n",
    "* The Avg Achieved Score for last 100 episodes, Red Line, which shows how the Agent's performance improves till it meets the Solve criteria and  stop."
   ]
  },
  {
   "cell_type": "code",
   "execution_count": 28,
   "metadata": {},
   "outputs": [
    {
     "data": {
      "image/png": "[encoded data removed]",
      "text/plain": [
       "<matplotlib.figure.Figure at 0x7fbca5c154e0>"
      ]
     },
     "metadata": {
      "needs_background": "light"
     },
     "output_type": "display_data"
    }
   ],
   "source": [
    "fig = plt.figure()\n",
    "ax = fig.add_subplot(111)\n",
    "plt.plot(np.arange(len(scores)), scores) #scores\n",
    "plt.plot([0,len(scores)], [30,30]) # Criteria Min Value\n",
    "plt.plot([0,len(scores)], [np.mean(scores[-100:]),np.mean(scores[-100:])]) # Achieved Mean Score over the last 100 eposides\n",
    "avg_score=[]\n",
    "for i in range(100,len(scores)):\n",
    "    avg_score.append(np.mean(scores[i-100:i]))\n",
    "    \n",
    "plt.plot(np.arange(len(scores)-100), avg_score) #scores\n",
    "plt.ylabel('Score')\n",
    "plt.xlabel('Episode #')\n",
    "plt.show()"
   ]
  },
  {
   "cell_type": "markdown",
   "metadata": {},
   "source": [
    "### 7. Ideas for Future Work\n",
    "---\n",
    "\n",
    "So there is few points that I can tackle on further work:\n",
    "\n",
    "A. Trying the less Arch as 33 input vector may require less complex architure. :\n",
    "    * Different layers\n",
    "    * different neurons / layer\n",
    "    * Different activations\n",
    "    * Drophouts\n",
    "    * Optimizers, etc\n",
    "\n",
    "\n",
    "B. Searching for best Hyper-parameters mentioned above: \n",
    "    * Smaller learning rate\n",
    "    * Larger UPDATE_EVERY, etc\n",
    "\n",
    "\n",
    "C. Trying The 2nd Version of 20 Agents where it is applicable to apply different algos :\n",
    "    * PPO\n",
    "    * A3C\n",
    "    * D4PG.\n",
    "\n",
    "\n",
    "D. Changing the input from the enviroment space and shifiting to pixels"
   ]
  },
  {
   "cell_type": "markdown",
   "metadata": {},
   "source": [
    "When finished, you can close the environment."
   ]
  },
  {
   "cell_type": "code",
   "execution_count": null,
   "metadata": {},
   "outputs": [],
   "source": [
    "env.close()"
   ]
  }
 ],
 "metadata": {
  "kernelspec": {
   "display_name": "Python 3",
   "language": "python",
   "name": "python3"
  },
  "language_info": {
   "codemirror_mode": {
    "name": "ipython",
    "version": 3
   },
   "file_extension": ".py",
   "mimetype": "text/x-python",
   "name": "python",
   "nbconvert_exporter": "python",
   "pygments_lexer": "ipython3",
   "version": "3.6.3"
  }
 },
 "nbformat": 4,
 "nbformat_minor": 2
}
